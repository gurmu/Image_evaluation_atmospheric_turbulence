{
 "cells": [
  {
   "cell_type": "code",
   "execution_count": 1,
   "id": "e14f3ace-bd76-4f4e-921d-a435df9062e3",
   "metadata": {},
   "outputs": [],
   "source": [
    "import cv2\n",
    "import numpy as np\n",
    "import pandas as pd \n",
    "import numpy as np \n",
    "from sklearn.datasets import load_digits\n",
    "from keras.preprocessing.image import array_to_img\n",
    "import matplotlib.pyplot as plt\n",
    "import os\n",
    "import glob\n",
    "data_path = \"people.csv\""
   ]
  },
  {
   "cell_type": "code",
   "execution_count": 2,
   "id": "725a0622-308c-4b8a-a1c9-11148c63287c",
   "metadata": {},
   "outputs": [],
   "source": [
    "os.chdir('/Users/ashenafigurmu/Downloads/archive/')"
   ]
  },
  {
   "cell_type": "code",
   "execution_count": 3,
   "id": "7f611308-5e79-4e76-b27c-bffb67207a30",
   "metadata": {},
   "outputs": [
    {
     "name": "stdout",
     "output_type": "stream",
     "text": [
      "(1, 1)\n"
     ]
    }
   ],
   "source": [
    "data = pd.read_csv(data_path);\n",
    "\n",
    "label = data.images.values\n",
    "\n",
    "data = data.drop(\"name\", axis=1)\n",
    "data = data.values\n",
    "data = data.reshape(data.shape[0], data.shape[1], 1)\n",
    "data = np.tile(data, (1, data.shape[1]))\n",
    "\n",
    "for i in range(data.shape[0]):\n",
    "    plt.imshow(data[i])\n",
    "    plt.title(\"label: {0:}\".format(label[1]))\n",
    "    plt.savefig(f\"out_{i}.png\")\n",
    "    plt.close()\n",
    "plt.show()\n",
    "\n",
    "print(data[0].shape)"
   ]
  },
  {
   "cell_type": "code",
   "execution_count": 10,
   "id": "c36b06bf-273d-46c2-90f8-adb3a34a0d54",
   "metadata": {},
   "outputs": [],
   "source": [
    "path = (\"images/*.png\")\n",
    "\n",
    "for index, filename in enumerate(glob.glob(path)):\n",
    "    a = cv2.imread(filename)\n",
    "    blur = cv2.GaussianBlur(a, (31, 31), 2)\n",
    "    basename = os.path.splitext(os.path.basename(filename))[0]\n",
    "    cv2.imwrite(filename + 'GaussianBlur{}.png'.format(index), blur)"
   ]
  },
  {
   "cell_type": "code",
   "execution_count": null,
   "id": "928de3ef-cef5-476d-a6d7-aaa982e036ca",
   "metadata": {},
   "outputs": [],
   "source": []
  }
 ],
 "metadata": {
  "kernelspec": {
   "display_name": "Python 3 (ipykernel)",
   "language": "python",
   "name": "python3"
  },
  "language_info": {
   "codemirror_mode": {
    "name": "ipython",
    "version": 3
   },
   "file_extension": ".py",
   "mimetype": "text/x-python",
   "name": "python",
   "nbconvert_exporter": "python",
   "pygments_lexer": "ipython3",
   "version": "3.7.12"
  }
 },
 "nbformat": 4,
 "nbformat_minor": 5
}
